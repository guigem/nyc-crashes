{
 "cells": [
  {
   "cell_type": "markdown",
   "metadata": {},
   "source": [
    "## Importing the csv file ans setting the index to collision_id"
   ]
  },
  {
   "cell_type": "code",
   "execution_count": 1,
   "metadata": {},
   "outputs": [
    {
     "name": "stderr",
     "output_type": "stream",
     "text": [
      "C:\\Users\\Guillaume\\anaconda3\\lib\\site-packages\\IPython\\core\\interactiveshell.py:3146: DtypeWarning: Columns (3) have mixed types.Specify dtype option on import or set low_memory=False.\n",
      "  has_raised = await self.run_ast_nodes(code_ast.body, cell_name,\n"
     ]
    },
    {
     "data": {
      "text/html": [
       "<div>\n",
       "<style scoped>\n",
       "    .dataframe tbody tr th:only-of-type {\n",
       "        vertical-align: middle;\n",
       "    }\n",
       "\n",
       "    .dataframe tbody tr th {\n",
       "        vertical-align: top;\n",
       "    }\n",
       "\n",
       "    .dataframe thead th {\n",
       "        text-align: right;\n",
       "    }\n",
       "</style>\n",
       "<table border=\"1\" class=\"dataframe\">\n",
       "  <thead>\n",
       "    <tr style=\"text-align: right;\">\n",
       "      <th></th>\n",
       "      <th>crash_date</th>\n",
       "      <th>crash_time</th>\n",
       "      <th>borough</th>\n",
       "      <th>zip_code</th>\n",
       "      <th>latitude</th>\n",
       "      <th>longitude</th>\n",
       "      <th>location</th>\n",
       "      <th>on_street_name</th>\n",
       "      <th>off_street_name</th>\n",
       "      <th>cross_street_name</th>\n",
       "      <th>...</th>\n",
       "      <th>contributing_factor_vehicle_1</th>\n",
       "      <th>contributing_factor_vehicle_2</th>\n",
       "      <th>contributing_factor_vehicle_3</th>\n",
       "      <th>contributing_factor_vehicle_4</th>\n",
       "      <th>contributing_factor_vehicle_5</th>\n",
       "      <th>vehicle_type_code1</th>\n",
       "      <th>vehicle_type_code2</th>\n",
       "      <th>vehicle_type_code_3</th>\n",
       "      <th>vehicle_type_code_4</th>\n",
       "      <th>vehicle_type_code_5</th>\n",
       "    </tr>\n",
       "    <tr>\n",
       "      <th>collision_id</th>\n",
       "      <th></th>\n",
       "      <th></th>\n",
       "      <th></th>\n",
       "      <th></th>\n",
       "      <th></th>\n",
       "      <th></th>\n",
       "      <th></th>\n",
       "      <th></th>\n",
       "      <th></th>\n",
       "      <th></th>\n",
       "      <th></th>\n",
       "      <th></th>\n",
       "      <th></th>\n",
       "      <th></th>\n",
       "      <th></th>\n",
       "      <th></th>\n",
       "      <th></th>\n",
       "      <th></th>\n",
       "      <th></th>\n",
       "      <th></th>\n",
       "      <th></th>\n",
       "    </tr>\n",
       "  </thead>\n",
       "  <tbody>\n",
       "    <tr>\n",
       "      <th>255278</th>\n",
       "      <td>2012-08-12T00:00:00.000</td>\n",
       "      <td>13:20</td>\n",
       "      <td>QUEENS</td>\n",
       "      <td>11373</td>\n",
       "      <td>40.736752</td>\n",
       "      <td>-73.877670</td>\n",
       "      <td>(40.7367523, -73.8776702)</td>\n",
       "      <td>QUEENS BOULEVARD</td>\n",
       "      <td>BROADWAY</td>\n",
       "      <td>NaN</td>\n",
       "      <td>...</td>\n",
       "      <td>Unspecified</td>\n",
       "      <td>Unspecified</td>\n",
       "      <td>Unspecified</td>\n",
       "      <td>NaN</td>\n",
       "      <td>NaN</td>\n",
       "      <td>PASSENGER VEHICLE</td>\n",
       "      <td>PASSENGER VEHICLE</td>\n",
       "      <td>PASSENGER VEHICLE</td>\n",
       "      <td>NaN</td>\n",
       "      <td>NaN</td>\n",
       "    </tr>\n",
       "    <tr>\n",
       "      <th>38402</th>\n",
       "      <td>2012-09-04T00:00:00.000</td>\n",
       "      <td>19:15</td>\n",
       "      <td>MANHATTAN</td>\n",
       "      <td>10019</td>\n",
       "      <td>40.763658</td>\n",
       "      <td>-73.973464</td>\n",
       "      <td>(40.7636578, -73.9734636)</td>\n",
       "      <td>WEST 58 STREET</td>\n",
       "      <td>5 AVENUE</td>\n",
       "      <td>NaN</td>\n",
       "      <td>...</td>\n",
       "      <td>Driver Inattention/Distraction</td>\n",
       "      <td>Unspecified</td>\n",
       "      <td>NaN</td>\n",
       "      <td>NaN</td>\n",
       "      <td>NaN</td>\n",
       "      <td>TAXI</td>\n",
       "      <td>SPORT UTILITY / STATION WAGON</td>\n",
       "      <td>NaN</td>\n",
       "      <td>NaN</td>\n",
       "      <td>NaN</td>\n",
       "    </tr>\n",
       "    <tr>\n",
       "      <th>188040</th>\n",
       "      <td>2012-08-23T00:00:00.000</td>\n",
       "      <td>18:45</td>\n",
       "      <td>NaN</td>\n",
       "      <td>NaN</td>\n",
       "      <td>NaN</td>\n",
       "      <td>NaN</td>\n",
       "      <td>NaN</td>\n",
       "      <td>COURT STREET</td>\n",
       "      <td>WARREN STREET</td>\n",
       "      <td>NaN</td>\n",
       "      <td>...</td>\n",
       "      <td>Illness</td>\n",
       "      <td>Unspecified</td>\n",
       "      <td>NaN</td>\n",
       "      <td>NaN</td>\n",
       "      <td>NaN</td>\n",
       "      <td>PASSENGER VEHICLE</td>\n",
       "      <td>PASSENGER VEHICLE</td>\n",
       "      <td>NaN</td>\n",
       "      <td>NaN</td>\n",
       "      <td>NaN</td>\n",
       "    </tr>\n",
       "    <tr>\n",
       "      <th>294049</th>\n",
       "      <td>2012-09-06T00:00:00.000</td>\n",
       "      <td>0:45</td>\n",
       "      <td>STATEN ISLAND</td>\n",
       "      <td>10314</td>\n",
       "      <td>40.608054</td>\n",
       "      <td>-74.157353</td>\n",
       "      <td>(40.6080537, -74.1573526)</td>\n",
       "      <td>MORANI STREET</td>\n",
       "      <td>VICTORY BOULEVARD</td>\n",
       "      <td>NaN</td>\n",
       "      <td>...</td>\n",
       "      <td>Unspecified</td>\n",
       "      <td>NaN</td>\n",
       "      <td>NaN</td>\n",
       "      <td>NaN</td>\n",
       "      <td>NaN</td>\n",
       "      <td>PASSENGER VEHICLE</td>\n",
       "      <td>NaN</td>\n",
       "      <td>NaN</td>\n",
       "      <td>NaN</td>\n",
       "      <td>NaN</td>\n",
       "    </tr>\n",
       "    <tr>\n",
       "      <th>273074</th>\n",
       "      <td>2012-08-13T00:00:00.000</td>\n",
       "      <td>19:10</td>\n",
       "      <td>QUEENS</td>\n",
       "      <td>11377</td>\n",
       "      <td>40.753709</td>\n",
       "      <td>-73.902988</td>\n",
       "      <td>(40.7537088, -73.9029876)</td>\n",
       "      <td>NORTHERN BOULEVARD</td>\n",
       "      <td>58 STREET</td>\n",
       "      <td>NaN</td>\n",
       "      <td>...</td>\n",
       "      <td>Unspecified</td>\n",
       "      <td>Unspecified</td>\n",
       "      <td>NaN</td>\n",
       "      <td>NaN</td>\n",
       "      <td>NaN</td>\n",
       "      <td>PASSENGER VEHICLE</td>\n",
       "      <td>PASSENGER VEHICLE</td>\n",
       "      <td>NaN</td>\n",
       "      <td>NaN</td>\n",
       "      <td>NaN</td>\n",
       "    </tr>\n",
       "  </tbody>\n",
       "</table>\n",
       "<p>5 rows × 28 columns</p>\n",
       "</div>"
      ],
      "text/plain": [
       "                           crash_date crash_time        borough zip_code  \\\n",
       "collision_id                                                               \n",
       "255278        2012-08-12T00:00:00.000      13:20         QUEENS    11373   \n",
       "38402         2012-09-04T00:00:00.000      19:15      MANHATTAN    10019   \n",
       "188040        2012-08-23T00:00:00.000      18:45            NaN      NaN   \n",
       "294049        2012-09-06T00:00:00.000       0:45  STATEN ISLAND    10314   \n",
       "273074        2012-08-13T00:00:00.000      19:10         QUEENS    11377   \n",
       "\n",
       "               latitude  longitude                   location  \\\n",
       "collision_id                                                    \n",
       "255278        40.736752 -73.877670  (40.7367523, -73.8776702)   \n",
       "38402         40.763658 -73.973464  (40.7636578, -73.9734636)   \n",
       "188040              NaN        NaN                        NaN   \n",
       "294049        40.608054 -74.157353  (40.6080537, -74.1573526)   \n",
       "273074        40.753709 -73.902988  (40.7537088, -73.9029876)   \n",
       "\n",
       "                                on_street_name  \\\n",
       "collision_id                                     \n",
       "255278        QUEENS BOULEVARD                   \n",
       "38402         WEST 58 STREET                     \n",
       "188040        COURT STREET                       \n",
       "294049        MORANI STREET                      \n",
       "273074        NORTHERN BOULEVARD                 \n",
       "\n",
       "                               off_street_name cross_street_name  ...  \\\n",
       "collision_id                                                      ...   \n",
       "255278        BROADWAY                                       NaN  ...   \n",
       "38402         5 AVENUE                                       NaN  ...   \n",
       "188040        WARREN STREET                                  NaN  ...   \n",
       "294049        VICTORY BOULEVARD                              NaN  ...   \n",
       "273074        58 STREET                                      NaN  ...   \n",
       "\n",
       "               contributing_factor_vehicle_1  contributing_factor_vehicle_2  \\\n",
       "collision_id                                                                  \n",
       "255278                           Unspecified                    Unspecified   \n",
       "38402         Driver Inattention/Distraction                    Unspecified   \n",
       "188040                               Illness                    Unspecified   \n",
       "294049                           Unspecified                            NaN   \n",
       "273074                           Unspecified                    Unspecified   \n",
       "\n",
       "              contributing_factor_vehicle_3  contributing_factor_vehicle_4  \\\n",
       "collision_id                                                                 \n",
       "255278                          Unspecified                            NaN   \n",
       "38402                                   NaN                            NaN   \n",
       "188040                                  NaN                            NaN   \n",
       "294049                                  NaN                            NaN   \n",
       "273074                                  NaN                            NaN   \n",
       "\n",
       "              contributing_factor_vehicle_5  vehicle_type_code1  \\\n",
       "collision_id                                                      \n",
       "255278                                  NaN   PASSENGER VEHICLE   \n",
       "38402                                   NaN                TAXI   \n",
       "188040                                  NaN   PASSENGER VEHICLE   \n",
       "294049                                  NaN   PASSENGER VEHICLE   \n",
       "273074                                  NaN   PASSENGER VEHICLE   \n",
       "\n",
       "                         vehicle_type_code2  vehicle_type_code_3  \\\n",
       "collision_id                                                       \n",
       "255278                    PASSENGER VEHICLE    PASSENGER VEHICLE   \n",
       "38402         SPORT UTILITY / STATION WAGON                  NaN   \n",
       "188040                    PASSENGER VEHICLE                  NaN   \n",
       "294049                                  NaN                  NaN   \n",
       "273074                    PASSENGER VEHICLE                  NaN   \n",
       "\n",
       "             vehicle_type_code_4 vehicle_type_code_5  \n",
       "collision_id                                          \n",
       "255278                       NaN                 NaN  \n",
       "38402                        NaN                 NaN  \n",
       "188040                       NaN                 NaN  \n",
       "294049                       NaN                 NaN  \n",
       "273074                       NaN                 NaN  \n",
       "\n",
       "[5 rows x 28 columns]"
      ]
     },
     "execution_count": 1,
     "metadata": {},
     "output_type": "execute_result"
    }
   ],
   "source": [
    "import pandas as pd\n",
    "df = pd.read_csv('data/data_1000000.csv', index_col=\"collision_id\")\n",
    "df.head()"
   ]
  },
  {
   "cell_type": "markdown",
   "metadata": {},
   "source": [
    "## Checking if the index is unique"
   ]
  },
  {
   "cell_type": "code",
   "execution_count": 2,
   "metadata": {},
   "outputs": [
    {
     "data": {
      "text/plain": [
       "True"
      ]
     },
     "execution_count": 2,
     "metadata": {},
     "output_type": "execute_result"
    }
   ],
   "source": [
    "df.index.is_unique"
   ]
  },
  {
   "cell_type": "code",
   "execution_count": 3,
   "metadata": {},
   "outputs": [
    {
     "data": {
      "text/plain": [
       "(1000000, 28)"
      ]
     },
     "execution_count": 3,
     "metadata": {},
     "output_type": "execute_result"
    }
   ],
   "source": [
    "df.shape"
   ]
  },
  {
   "cell_type": "markdown",
   "metadata": {},
   "source": [
    "## Computing the percentage of missing values"
   ]
  },
  {
   "cell_type": "code",
   "execution_count": 4,
   "metadata": {},
   "outputs": [
    {
     "data": {
      "text/plain": [
       "crash_date                       0.000000\n",
       "crash_time                       0.000000\n",
       "borough                          0.350498\n",
       "zip_code                         0.350665\n",
       "latitude                         0.078651\n",
       "longitude                        0.078651\n",
       "location                         0.078651\n",
       "on_street_name                   0.231107\n",
       "off_street_name                  0.480395\n",
       "cross_street_name                0.780458\n",
       "number_of_persons_injured        0.000016\n",
       "number_of_persons_killed         0.000030\n",
       "number_of_pedestrians_injured    0.000000\n",
       "number_of_pedestrians_killed     0.000000\n",
       "number_of_cyclist_injured        0.000000\n",
       "number_of_cyclist_killed         0.000000\n",
       "number_of_motorist_injured       0.000000\n",
       "number_of_motorist_killed        0.000000\n",
       "contributing_factor_vehicle_1    0.002928\n",
       "contributing_factor_vehicle_2    0.151924\n",
       "contributing_factor_vehicle_3    0.932037\n",
       "contributing_factor_vehicle_4    0.985181\n",
       "contributing_factor_vehicle_5    0.996037\n",
       "vehicle_type_code1               0.007036\n",
       "vehicle_type_code2               0.205069\n",
       "vehicle_type_code_3              0.935375\n",
       "vehicle_type_code_4              0.985883\n",
       "vehicle_type_code_5              0.996212\n",
       "dtype: float64"
      ]
     },
     "execution_count": 4,
     "metadata": {},
     "output_type": "execute_result"
    }
   ],
   "source": [
    "df.isnull().sum()/df.shape[0] "
   ]
  },
  {
   "cell_type": "markdown",
   "metadata": {},
   "source": [
    "## Removing columns with more than 40% of missing values"
   ]
  },
  {
   "cell_type": "code",
   "execution_count": 5,
   "metadata": {},
   "outputs": [],
   "source": [
    "df = df.drop(df.loc[:,df.isnull().sum()/df.shape[0]  > 0.4], axis=1) "
   ]
  },
  {
   "cell_type": "markdown",
   "metadata": {},
   "source": [
    "## Removing blank spaces in all columns"
   ]
  },
  {
   "cell_type": "code",
   "execution_count": 6,
   "metadata": {},
   "outputs": [],
   "source": [
    "# Remove leading and trailing withespaces\n",
    "def strip_str(x):\n",
    "    if type(x) is str:\n",
    "        return x.strip()\n",
    "    return x"
   ]
  },
  {
   "cell_type": "code",
   "execution_count": 7,
   "metadata": {},
   "outputs": [],
   "source": [
    "df = df.applymap(strip_str)"
   ]
  },
  {
   "cell_type": "markdown",
   "metadata": {},
   "source": [
    "## Replacing empty values of the factors of vehicules by Unspecified\n",
    "### Moreover, separating the factors that are written in one column and separated with \"/\""
   ]
  },
  {
   "cell_type": "code",
   "execution_count": 8,
   "metadata": {},
   "outputs": [],
   "source": [
    "def factor_vehicule(x):\n",
    "    \n",
    "    if x[\"contributing_factor_vehicle_1\"] != \"nan\":\n",
    "        x[\"contributing_factor_vehicle_1\"] = str(x[\"contributing_factor_vehicle_1\"])\n",
    "        if \"/\" in x[\"contributing_factor_vehicle_1\"]:\n",
    "            sp = x[\"contributing_factor_vehicle_1\"].split(\"/\")\n",
    "            x[\"contributing_factor_vehicle_1\"] = sp[0]\n",
    "            x[\"contributing_factor_vehicle_2\"] = sp[1]\n",
    "\n",
    "    if x[\"contributing_factor_vehicle_1\"] == \"nan\":\n",
    "        x[\"contributing_factor_vehicle_1\"] = \"Unspecified\"\n",
    "        \n",
    "    return x   "
   ]
  },
  {
   "cell_type": "code",
   "execution_count": 9,
   "metadata": {},
   "outputs": [],
   "source": [
    "def factor_vehicule_2(x):\n",
    "    \n",
    "    if x[\"contributing_factor_vehicle_2\"] != \"nan\":\n",
    "        x[\"contributing_factor_vehicle_2\"] = str(x[\"contributing_factor_vehicle_2\"])\n",
    "        if \"/\" in x[\"contributing_factor_vehicle_2\"]:\n",
    "            sp = x[\"contributing_factor_vehicle_2\"].split(\"/\")\n",
    "            x[\"contributing_factor_vehicle_2\"] = sp[1]\n",
    "\n",
    "    if x[\"contributing_factor_vehicle_2\"] == \"nan\":\n",
    "        x[\"contributing_factor_vehicle_2\"] = \"Unspecified\"\n",
    "        \n",
    "    return x     "
   ]
  },
  {
   "cell_type": "code",
   "execution_count": 10,
   "metadata": {},
   "outputs": [],
   "source": [
    "df = df.apply(factor_vehicule, axis=1)\n",
    "df = df.apply(factor_vehicule_2, axis=1) "
   ]
  },
  {
   "cell_type": "markdown",
   "metadata": {},
   "source": [
    "## Same as idea as below for separating with vehicule types"
   ]
  },
  {
   "cell_type": "code",
   "execution_count": 11,
   "metadata": {},
   "outputs": [],
   "source": [
    "def type_vehicule(x):\n",
    "    \n",
    "    if x[\"vehicle_type_code1\"] != x[\"vehicle_type_code1\"] or x[\"contributing_factor_vehicle_2\"] != \"0\":\n",
    "        x[\"vehicle_type_code1\"] = str(x[\"vehicle_type_code1\"])\n",
    "        if \"/\" in x[\"vehicle_type_code1\"]:\n",
    "            sp = x[\"vehicle_type_code1\"].split(\"/\")\n",
    "            x[\"vehicle_type_code1\"] = sp[0]\n",
    "            x[\"vehicle_type_code2\"] = sp[1]\n",
    "\n",
    "    if x[\"vehicle_type_code1\"] == \"nan\":\n",
    "        x[\"vehicle_type_code1\"] = \"Unspecified\"\n",
    "        \n",
    "    return x  "
   ]
  },
  {
   "cell_type": "code",
   "execution_count": 12,
   "metadata": {},
   "outputs": [],
   "source": [
    "def type_vehicule2(x):\n",
    "    \n",
    "    if x[\"vehicle_type_code2\"] != x[\"vehicle_type_code2\"]:\n",
    "        x[\"vehicle_type_code2\"] = str(x[\"vehicle_type_code2\"])\n",
    "        if \"/\" in x[\"vehicle_type_code2\"]:\n",
    "            sp = x[\"vehicle_type_code2\"].split(\"/\")\n",
    "            x[\"vehicle_type_code2\"] = sp[1]\n",
    "\n",
    "    if x[\"vehicle_type_code2\"] == \"nan\":\n",
    "        x[\"vehicle_type_code2\"] = \"Unspecified\"\n",
    "        \n",
    "    return x  "
   ]
  },
  {
   "cell_type": "markdown",
   "metadata": {},
   "source": [
    "## Consolidate main columns for vehicles"
   ]
  },
  {
   "cell_type": "code",
   "execution_count": 13,
   "metadata": {},
   "outputs": [],
   "source": [
    "def uniform_vehicles(x):\n",
    "\n",
    "    Ambulance = [\"AMB\", 'AMBUL', \"Ambul\", 'AMBU', 'ambul', 'AMBULANCE', 'AMBULACE', 'GEN  AMBUL', 'AMBULENCE',\n",
    "                'FDNY AMBUL', 'Fdny ambul', 'White ambu', 'NYC AMBULA', 'AMBULENCE', 'abulance']\n",
    "    Sedan = [\"2 dr sedan\", '4 dr sedan', \"SMALL COM VEH(4 TIRES)\",\"LARGE COM VEH(6 OR MORE TIRES)\"]\n",
    "    Van = [\"van\", 'Armored Truck', \"VAN\", 'Refrigerated Van']\n",
    "    Taxi = [\"TAXI\"]\n",
    "    Bus = ['School Bus', 'bus']\n",
    "    Unspecified = ['UNKNO', 'Unkno', 'UNKNOWN', 'Unknown']\n",
    "    Truck = [\"TRUCK\"]\n",
    "    Other = [\"OTHER\"]\n",
    "    Pickup = [\"PICK-UP TRUCK\"]\n",
    "    Sta = [\"STATION WAGON\"]\n",
    "    \n",
    "    if x[\"vehicle_type_code1\"] in Ambulance:\n",
    "        x[\"vehicle_type_code1\"] = \"Ambulance\"\n",
    "    \n",
    "    if x[\"vehicle_type_code1\"] in Sedan:\n",
    "        x[\"vehicle_type_code1\"] = \"Sedan\"\n",
    "        \n",
    "    if x[\"vehicle_type_code1\"] in Van:\n",
    "        x[\"vehicle_type_code1\"] = \"Van\" \n",
    "    \n",
    "    if x[\"vehicle_type_code1\"] in Taxi:\n",
    "        x[\"vehicle_type_code1\"] = \"Taxi\" \n",
    "        \n",
    "    if x[\"vehicle_type_code1\"] in Bus:\n",
    "        x[\"vehicle_type_code1\"] = \"Bus\"   \n",
    "        \n",
    "    if x[\"vehicle_type_code1\"] in Unspecified:\n",
    "        x[\"vehicle_type_code1\"] = \"Unspecified\" \n",
    "        \n",
    "    if x[\"vehicle_type_code1\"] in Truck:\n",
    "        x[\"vehicle_type_code1\"] = \"Truck\"     \n",
    "        \n",
    "    if x[\"vehicle_type_code1\"] in Other:\n",
    "        x[\"vehicle_type_code1\"] = \"Other\" \n",
    "        \n",
    "    if x[\"vehicle_type_code1\"] in Pickup:\n",
    "        x[\"vehicle_type_code1\"] = \"Pick-up Truck\" \n",
    "        \n",
    "    if x[\"vehicle_type_code1\"] in Sta:\n",
    "        x[\"vehicle_type_code1\"] = \"Station Wagon\" \n",
    "\n",
    "        \n",
    "    return x"
   ]
  },
  {
   "cell_type": "code",
   "execution_count": 16,
   "metadata": {},
   "outputs": [],
   "source": [
    "def uniform_vehicles_2(x):\n",
    "\n",
    "    Ambulance = [\"AMB\", 'AMBUL', \"Ambul\", 'AMBU', 'ambul', 'AMBULANCE', 'AMBULACE', 'GEN  AMBUL', 'AMBULENCE',\n",
    "                'FDNY AMBUL', 'Fdny ambul', 'White ambu', 'NYC AMBULA', 'AMBULENCE', 'abulance']\n",
    "    Sedan = [\"2 dr sedan\", '4 dr sedan', \"SMALL COM VEH(4 TIRES)\", \"LARGE COM VEH(6 OR MORE TIRES)\"]\n",
    "    Van = [\"van\", 'Armored Truck', \"VAN\", 'Refrigerated Van']\n",
    "    Taxi = [\"TAXI\"]\n",
    "    Bus = ['School Bus', 'bus', \"BUS\"]\n",
    "    Unspecified = ['UNKNO', 'Unkno', 'UNKNOWN', 'Unknown']\n",
    "    Truck = [\"TRUCK\"]\n",
    "    Other = [\"OTHER\"]\n",
    "    Pickup = [\"PICK-UP TRUCK\"]\n",
    "    Sta = [\"STATION WAGON\"]\n",
    "    Bike = [\"BICYCLE\"]\n",
    "    \n",
    "    if x[\"vehicle_type_code2\"] in Ambulance:\n",
    "        x[\"vehicle_type_code2\"] = \"Ambulance\"\n",
    "    \n",
    "    if x[\"vehicle_type_code2\"] in Sedan:\n",
    "        x[\"vehicle_type_code2\"] = \"Sedan\"\n",
    "        \n",
    "    if x[\"vehicle_type_code2\"] in Van:\n",
    "        x[\"vehicle_type_code2\"] = \"Van\" \n",
    "    \n",
    "    if x[\"vehicle_type_code2\"] in Taxi:\n",
    "        x[\"vehicle_type_code2\"] = \"Taxi\" \n",
    "        \n",
    "    if x[\"vehicle_type_code2\"] in Bus:\n",
    "        x[\"vehicle_type_code2\"] = \"Bus\"   \n",
    "        \n",
    "    if x[\"vehicle_type_code2\"] in Unspecified:\n",
    "        x[\"vehicle_type_code2\"] = \"Unspecified\" \n",
    "        \n",
    "    if x[\"vehicle_type_code2\"] in Truck:\n",
    "        x[\"vehicle_type_code2\"] = \"Truck\" \n",
    "        \n",
    "    if x[\"vehicle_type_code2\"] in Other:\n",
    "        x[\"vehicle_type_code2\"] = \"Other\" \n",
    "        \n",
    "    if x[\"vehicle_type_code2\"] in Pickup:\n",
    "        x[\"vehicle_type_code2\"] = \"Pick-up Truck\"     \n",
    "     \n",
    "    if x[\"vehicle_type_code2\"] in Sta:\n",
    "        x[\"vehicle_type_code2\"] = \"Station Wagon\" \n",
    "        \n",
    "    if x[\"vehicle_type_code2\"] in Bike:\n",
    "        x[\"vehicle_type_code2\"] = \"Bike\"  \n",
    "        \n",
    "    return x"
   ]
  },
  {
   "cell_type": "code",
   "execution_count": 17,
   "metadata": {},
   "outputs": [],
   "source": [
    "df = df.apply(type_vehicule, axis=1)\n",
    "df = df.apply(type_vehicule2, axis=1)\n",
    "df = df.apply(uniform_vehicles, axis=1)\n",
    "df = df.apply(uniform_vehicles_2, axis=1)"
   ]
  },
  {
   "cell_type": "code",
   "execution_count": 45,
   "metadata": {},
   "outputs": [],
   "source": [
    "df = df.applymap(strip_str)"
   ]
  },
  {
   "cell_type": "markdown",
   "metadata": {},
   "source": [
    "## Only taking into account vehicle types that occur at least 100 times"
   ]
  },
  {
   "cell_type": "code",
   "execution_count": 47,
   "metadata": {},
   "outputs": [],
   "source": [
    "a = df[\"vehicle_type_code1\"].value_counts()\n",
    "a = a[a < 1500].index\n",
    "\n",
    "b = df[\"vehicle_type_code2\"].value_counts()\n",
    "b = b[b < 1500].index\n",
    "\n",
    "df[\"vehicle_type_code1\"] = df[\"vehicle_type_code1\"].replace({df:'Other' for df in a})\n",
    "df[\"vehicle_type_code2\"] = df[\"vehicle_type_code2\"].replace({df:'Other' for df in b})"
   ]
  },
  {
   "cell_type": "code",
   "execution_count": 44,
   "metadata": {},
   "outputs": [
    {
     "data": {
      "text/plain": [
       "collision_id\n",
       "301303    SPORT UTILITY \n",
       "301256    SPORT UTILITY \n",
       "301753    SPORT UTILITY \n",
       "301415    SPORT UTILITY \n",
       "301556    SPORT UTILITY \n",
       "               ...      \n",
       "107460    SPORT UTILITY \n",
       "107414    SPORT UTILITY \n",
       "106965    SPORT UTILITY \n",
       "106925    SPORT UTILITY \n",
       "107165    SPORT UTILITY \n",
       "Name: vehicle_type_code1, Length: 15267, dtype: object"
      ]
     },
     "execution_count": 44,
     "metadata": {},
     "output_type": "execute_result"
    }
   ],
   "source": [
    "df.loc[df[\"vehicle_type_code1_num\"].isnull(),\"vehicle_type_code1\"]\n",
    "#df[\"vehicle_type_code1_num\"].unique()"
   ]
  },
  {
   "cell_type": "markdown",
   "metadata": {},
   "source": [
    "## Assigning quantitative values to qualitative variables "
   ]
  },
  {
   "cell_type": "code",
   "execution_count": 48,
   "metadata": {},
   "outputs": [],
   "source": [
    "vehicle_1 = {\n",
    "    \"Sedan\": 0,\n",
    "    \"Station Wagon\": 1,\n",
    "    \"PASSENGER VEHICLE\":2,\n",
    "    \"Taxi\": 3,\n",
    "    \"Pick-up Truck\": 4,\n",
    "    \"SPORT UTILITY\": 5,\n",
    "    \"Box Truck\": 6,\n",
    "    \"Bus\": 7,\n",
    "    \"Other\": 8,\n",
    "    \"Van\": 9,\n",
    "    \"Unspecified\": 10,\n",
    "    \"Bike\": 11,\n",
    "    \"Tractor Truck Diesel\": 12,\n",
    "    \"Motorcycle\": 13,\n",
    "    \"Ambulance\": 14,\n",
    "    \"Convertible\":15,\n",
    "    \"Dump\": 16,\n",
    "    \"Flat Bed\": 17,\n",
    "    \"PK\": 18,\n",
    "    \"Garbage or Refuse\": 19\n",
    "}\n",
    "df[\"vehicle_type_code1_num\"] = df[\"vehicle_type_code1\"].apply(lambda x: vehicle_1.get(x))"
   ]
  },
  {
   "cell_type": "code",
   "execution_count": 49,
   "metadata": {},
   "outputs": [],
   "source": [
    "vehicle_2 = {\n",
    "    \"Sport Utility Vehicle\": 0,\n",
    "    \"Sedan\": 1,\n",
    "    \"Unspecified\": 2,\n",
    "    \"Station Wagon/Sport Utility Vehicle\": 3,\n",
    "    \"Bike\": 4,\n",
    "    \"Taxi\": 5,\n",
    "    \"Bike\": 6,\n",
    "    \"Other\": 7,\n",
    "    \"Pick-up Truck\": 8,\n",
    "    \"Box Truck\": 9,\n",
    "    \"Bus\": 10,\n",
    "    \"Tractor Truck Diesel\": 11,\n",
    "    \"Motorcycle\": 12,\n",
    "    \"Van\":13,\n",
    "    \"E-Scooter\": 14,\n",
    "    \"Dump\": 15,\n",
    "    \"E-Bike\": 16,\n",
    "    \"Flat Bed\": 17,\n",
    "    \"STATION WAGON\": 18,\n",
    "    \"SPORT UTILITY / STATION WAGON\": 19,\n",
    "    \"PASSENGER VEHICLE\":20,\n",
    "}\n",
    "df[\"vehicle_type_code2_num\"] = df[\"vehicle_type_code2\"].apply(lambda x: vehicle_2.get(x))"
   ]
  },
  {
   "cell_type": "markdown",
   "metadata": {},
   "source": [
    "## Extracting date from crash date column"
   ]
  },
  {
   "cell_type": "code",
   "execution_count": 50,
   "metadata": {},
   "outputs": [],
   "source": [
    "df['day']=df.apply(lambda x: str(x['crash_date'])[8:10],axis=1)\n",
    "df['month']=df.apply(lambda x: str(x['crash_date'])[5:7],axis=1)\n",
    "df['year']=df.apply(lambda x: str(x['crash_date'])[0:4],axis=1)"
   ]
  },
  {
   "cell_type": "code",
   "execution_count": 51,
   "metadata": {},
   "outputs": [
    {
     "data": {
      "text/html": [
       "<div>\n",
       "<style scoped>\n",
       "    .dataframe tbody tr th:only-of-type {\n",
       "        vertical-align: middle;\n",
       "    }\n",
       "\n",
       "    .dataframe tbody tr th {\n",
       "        vertical-align: top;\n",
       "    }\n",
       "\n",
       "    .dataframe thead th {\n",
       "        text-align: right;\n",
       "    }\n",
       "</style>\n",
       "<table border=\"1\" class=\"dataframe\">\n",
       "  <thead>\n",
       "    <tr style=\"text-align: right;\">\n",
       "      <th></th>\n",
       "      <th>crash_date</th>\n",
       "      <th>day</th>\n",
       "      <th>month</th>\n",
       "      <th>year</th>\n",
       "    </tr>\n",
       "    <tr>\n",
       "      <th>collision_id</th>\n",
       "      <th></th>\n",
       "      <th></th>\n",
       "      <th></th>\n",
       "      <th></th>\n",
       "    </tr>\n",
       "  </thead>\n",
       "  <tbody>\n",
       "    <tr>\n",
       "      <th>301815</th>\n",
       "      <td>2012-11-05</td>\n",
       "      <td>05</td>\n",
       "      <td>11</td>\n",
       "      <td>2012</td>\n",
       "    </tr>\n",
       "    <tr>\n",
       "      <th>3794971</th>\n",
       "      <td>2017-11-21</td>\n",
       "      <td>21</td>\n",
       "      <td>11</td>\n",
       "      <td>2017</td>\n",
       "    </tr>\n",
       "    <tr>\n",
       "      <th>4083808</th>\n",
       "      <td>2019-02-20</td>\n",
       "      <td>20</td>\n",
       "      <td>02</td>\n",
       "      <td>2019</td>\n",
       "    </tr>\n",
       "    <tr>\n",
       "      <th>3578022</th>\n",
       "      <td>2016-12-05</td>\n",
       "      <td>05</td>\n",
       "      <td>12</td>\n",
       "      <td>2016</td>\n",
       "    </tr>\n",
       "    <tr>\n",
       "      <th>3869029</th>\n",
       "      <td>2018-03-25</td>\n",
       "      <td>25</td>\n",
       "      <td>03</td>\n",
       "      <td>2018</td>\n",
       "    </tr>\n",
       "  </tbody>\n",
       "</table>\n",
       "</div>"
      ],
      "text/plain": [
       "             crash_date day month  year\n",
       "collision_id                           \n",
       "301815       2012-11-05  05    11  2012\n",
       "3794971      2017-11-21  21    11  2017\n",
       "4083808      2019-02-20  20    02  2019\n",
       "3578022      2016-12-05  05    12  2016\n",
       "3869029      2018-03-25  25    03  2018"
      ]
     },
     "execution_count": 51,
     "metadata": {},
     "output_type": "execute_result"
    }
   ],
   "source": [
    "df['crash_date'] = pd.to_datetime(df[['year','month','day']])\n",
    "df[['crash_date', 'day', 'month', 'year']].head()"
   ]
  },
  {
   "cell_type": "markdown",
   "metadata": {},
   "source": [
    "## Removing rows with empty or zero latitude "
   ]
  },
  {
   "cell_type": "code",
   "execution_count": 23,
   "metadata": {},
   "outputs": [
    {
     "data": {
      "text/html": [
       "<div>\n",
       "<style scoped>\n",
       "    .dataframe tbody tr th:only-of-type {\n",
       "        vertical-align: middle;\n",
       "    }\n",
       "\n",
       "    .dataframe tbody tr th {\n",
       "        vertical-align: top;\n",
       "    }\n",
       "\n",
       "    .dataframe thead th {\n",
       "        text-align: right;\n",
       "    }\n",
       "</style>\n",
       "<table border=\"1\" class=\"dataframe\">\n",
       "  <thead>\n",
       "    <tr style=\"text-align: right;\">\n",
       "      <th></th>\n",
       "      <th>crash_date</th>\n",
       "      <th>crash_time</th>\n",
       "      <th>borough</th>\n",
       "      <th>zip_code</th>\n",
       "      <th>latitude</th>\n",
       "      <th>longitude</th>\n",
       "      <th>location</th>\n",
       "      <th>on_street_name</th>\n",
       "      <th>number_of_persons_injured</th>\n",
       "      <th>number_of_persons_killed</th>\n",
       "      <th>...</th>\n",
       "      <th>number_of_motorist_killed</th>\n",
       "      <th>contributing_factor_vehicle_1</th>\n",
       "      <th>contributing_factor_vehicle_2</th>\n",
       "      <th>vehicle_type_code1</th>\n",
       "      <th>vehicle_type_code2</th>\n",
       "      <th>vehicle_type_code1_num</th>\n",
       "      <th>vehicle_type_code2_num</th>\n",
       "      <th>day</th>\n",
       "      <th>month</th>\n",
       "      <th>year</th>\n",
       "    </tr>\n",
       "    <tr>\n",
       "      <th>collision_id</th>\n",
       "      <th></th>\n",
       "      <th></th>\n",
       "      <th></th>\n",
       "      <th></th>\n",
       "      <th></th>\n",
       "      <th></th>\n",
       "      <th></th>\n",
       "      <th></th>\n",
       "      <th></th>\n",
       "      <th></th>\n",
       "      <th></th>\n",
       "      <th></th>\n",
       "      <th></th>\n",
       "      <th></th>\n",
       "      <th></th>\n",
       "      <th></th>\n",
       "      <th></th>\n",
       "      <th></th>\n",
       "      <th></th>\n",
       "      <th></th>\n",
       "      <th></th>\n",
       "    </tr>\n",
       "  </thead>\n",
       "  <tbody>\n",
       "    <tr>\n",
       "      <th>255278</th>\n",
       "      <td>2012-08-12</td>\n",
       "      <td>13:20</td>\n",
       "      <td>QUEENS</td>\n",
       "      <td>11373</td>\n",
       "      <td>40.736752</td>\n",
       "      <td>-73.877670</td>\n",
       "      <td>(40.7367523, -73.8776702)</td>\n",
       "      <td>QUEENS BOULEVARD</td>\n",
       "      <td>3.0</td>\n",
       "      <td>0.0</td>\n",
       "      <td>...</td>\n",
       "      <td>0</td>\n",
       "      <td>Unspecified</td>\n",
       "      <td>Unspecified</td>\n",
       "      <td>PASSENGER VEHICLE</td>\n",
       "      <td>PASSENGER VEHICLE</td>\n",
       "      <td>2.0</td>\n",
       "      <td>20.0</td>\n",
       "      <td>12</td>\n",
       "      <td>08</td>\n",
       "      <td>2012</td>\n",
       "    </tr>\n",
       "    <tr>\n",
       "      <th>38402</th>\n",
       "      <td>2012-09-04</td>\n",
       "      <td>19:15</td>\n",
       "      <td>MANHATTAN</td>\n",
       "      <td>10019</td>\n",
       "      <td>40.763658</td>\n",
       "      <td>-73.973464</td>\n",
       "      <td>(40.7636578, -73.9734636)</td>\n",
       "      <td>WEST 58 STREET</td>\n",
       "      <td>0.0</td>\n",
       "      <td>0.0</td>\n",
       "      <td>...</td>\n",
       "      <td>0</td>\n",
       "      <td>Driver Inattention</td>\n",
       "      <td>Distraction</td>\n",
       "      <td>Taxi</td>\n",
       "      <td>SPORT UTILITY / STATION WAGON</td>\n",
       "      <td>3.0</td>\n",
       "      <td>19.0</td>\n",
       "      <td>04</td>\n",
       "      <td>09</td>\n",
       "      <td>2012</td>\n",
       "    </tr>\n",
       "    <tr>\n",
       "      <th>294049</th>\n",
       "      <td>2012-09-06</td>\n",
       "      <td>0:45</td>\n",
       "      <td>STATEN ISLAND</td>\n",
       "      <td>10314</td>\n",
       "      <td>40.608054</td>\n",
       "      <td>-74.157353</td>\n",
       "      <td>(40.6080537, -74.1573526)</td>\n",
       "      <td>MORANI STREET</td>\n",
       "      <td>2.0</td>\n",
       "      <td>0.0</td>\n",
       "      <td>...</td>\n",
       "      <td>0</td>\n",
       "      <td>Unspecified</td>\n",
       "      <td>Unspecified</td>\n",
       "      <td>PASSENGER VEHICLE</td>\n",
       "      <td>Unspecified</td>\n",
       "      <td>2.0</td>\n",
       "      <td>2.0</td>\n",
       "      <td>06</td>\n",
       "      <td>09</td>\n",
       "      <td>2012</td>\n",
       "    </tr>\n",
       "    <tr>\n",
       "      <th>273074</th>\n",
       "      <td>2012-08-13</td>\n",
       "      <td>19:10</td>\n",
       "      <td>QUEENS</td>\n",
       "      <td>11377</td>\n",
       "      <td>40.753709</td>\n",
       "      <td>-73.902988</td>\n",
       "      <td>(40.7537088, -73.9029876)</td>\n",
       "      <td>NORTHERN BOULEVARD</td>\n",
       "      <td>0.0</td>\n",
       "      <td>0.0</td>\n",
       "      <td>...</td>\n",
       "      <td>0</td>\n",
       "      <td>Unspecified</td>\n",
       "      <td>Unspecified</td>\n",
       "      <td>PASSENGER VEHICLE</td>\n",
       "      <td>PASSENGER VEHICLE</td>\n",
       "      <td>2.0</td>\n",
       "      <td>20.0</td>\n",
       "      <td>13</td>\n",
       "      <td>08</td>\n",
       "      <td>2012</td>\n",
       "    </tr>\n",
       "    <tr>\n",
       "      <th>26715</th>\n",
       "      <td>2012-09-06</td>\n",
       "      <td>17:00</td>\n",
       "      <td>MANHATTAN</td>\n",
       "      <td>10017</td>\n",
       "      <td>40.753482</td>\n",
       "      <td>-73.980889</td>\n",
       "      <td>(40.7534818, -73.9808885)</td>\n",
       "      <td>EAST 42 STREET</td>\n",
       "      <td>0.0</td>\n",
       "      <td>0.0</td>\n",
       "      <td>...</td>\n",
       "      <td>0</td>\n",
       "      <td>Unspecified</td>\n",
       "      <td>Unspecified</td>\n",
       "      <td>PASSENGER VEHICLE</td>\n",
       "      <td>Taxi</td>\n",
       "      <td>2.0</td>\n",
       "      <td>5.0</td>\n",
       "      <td>06</td>\n",
       "      <td>09</td>\n",
       "      <td>2012</td>\n",
       "    </tr>\n",
       "  </tbody>\n",
       "</table>\n",
       "<p>5 rows × 25 columns</p>\n",
       "</div>"
      ],
      "text/plain": [
       "             crash_date crash_time        borough zip_code   latitude  \\\n",
       "collision_id                                                            \n",
       "255278       2012-08-12      13:20         QUEENS    11373  40.736752   \n",
       "38402        2012-09-04      19:15      MANHATTAN    10019  40.763658   \n",
       "294049       2012-09-06       0:45  STATEN ISLAND    10314  40.608054   \n",
       "273074       2012-08-13      19:10         QUEENS    11377  40.753709   \n",
       "26715        2012-09-06      17:00      MANHATTAN    10017  40.753482   \n",
       "\n",
       "              longitude                   location      on_street_name  \\\n",
       "collision_id                                                             \n",
       "255278       -73.877670  (40.7367523, -73.8776702)    QUEENS BOULEVARD   \n",
       "38402        -73.973464  (40.7636578, -73.9734636)      WEST 58 STREET   \n",
       "294049       -74.157353  (40.6080537, -74.1573526)       MORANI STREET   \n",
       "273074       -73.902988  (40.7537088, -73.9029876)  NORTHERN BOULEVARD   \n",
       "26715        -73.980889  (40.7534818, -73.9808885)      EAST 42 STREET   \n",
       "\n",
       "              number_of_persons_injured  number_of_persons_killed  ...  \\\n",
       "collision_id                                                       ...   \n",
       "255278                              3.0                       0.0  ...   \n",
       "38402                               0.0                       0.0  ...   \n",
       "294049                              2.0                       0.0  ...   \n",
       "273074                              0.0                       0.0  ...   \n",
       "26715                               0.0                       0.0  ...   \n",
       "\n",
       "              number_of_motorist_killed  contributing_factor_vehicle_1  \\\n",
       "collision_id                                                             \n",
       "255278                                0                    Unspecified   \n",
       "38402                                 0             Driver Inattention   \n",
       "294049                                0                    Unspecified   \n",
       "273074                                0                    Unspecified   \n",
       "26715                                 0                    Unspecified   \n",
       "\n",
       "              contributing_factor_vehicle_2  vehicle_type_code1  \\\n",
       "collision_id                                                      \n",
       "255278                          Unspecified   PASSENGER VEHICLE   \n",
       "38402                           Distraction                Taxi   \n",
       "294049                          Unspecified   PASSENGER VEHICLE   \n",
       "273074                          Unspecified   PASSENGER VEHICLE   \n",
       "26715                           Unspecified   PASSENGER VEHICLE   \n",
       "\n",
       "                         vehicle_type_code2  vehicle_type_code1_num  \\\n",
       "collision_id                                                          \n",
       "255278                    PASSENGER VEHICLE                     2.0   \n",
       "38402         SPORT UTILITY / STATION WAGON                     3.0   \n",
       "294049                          Unspecified                     2.0   \n",
       "273074                    PASSENGER VEHICLE                     2.0   \n",
       "26715                                  Taxi                     2.0   \n",
       "\n",
       "             vehicle_type_code2_num day month  year  \n",
       "collision_id                                         \n",
       "255278                         20.0  12    08  2012  \n",
       "38402                          19.0  04    09  2012  \n",
       "294049                          2.0  06    09  2012  \n",
       "273074                         20.0  13    08  2012  \n",
       "26715                           5.0  06    09  2012  \n",
       "\n",
       "[5 rows x 25 columns]"
      ]
     },
     "execution_count": 23,
     "metadata": {},
     "output_type": "execute_result"
    }
   ],
   "source": [
    "df = df[df['latitude'].notna()]\n",
    "df = df[df['latitude'] != 0]\n",
    "df.head()"
   ]
  },
  {
   "cell_type": "markdown",
   "metadata": {},
   "source": [
    "## Filling borough values by assigning a value whenever, the location is in the range of the min-max longitude and latitude "
   ]
  },
  {
   "cell_type": "code",
   "execution_count": 24,
   "metadata": {},
   "outputs": [],
   "source": [
    "\n",
    "#Min-max Staten Island\n",
    "min_long_SI = df[df[\"borough\"] == \"STATEN ISLAND\"]['longitude'].min()\n",
    "max_long_SI = df[df[\"borough\"] == \"STATEN ISLAND\"]['longitude'].max()\n",
    "min_lat_SI = df[df[\"borough\"] == \"STATEN ISLAND\"]['latitude'].min()\n",
    "max_lat_SI = df[df[\"borough\"] == \"STATEN ISLAND\"]['latitude'].max()\n",
    "\n",
    "#Min-max Bronx\n",
    "min_long_Br = df[df['borough'] == \"BRONX\"]['longitude'].min()\n",
    "max_long_Br = df[df['borough'] == \"BRONX\"]['longitude'].max()\n",
    "min_lat_Br = df[df['borough'] == \"BRONX\"]['latitude'].min()\n",
    "max_lat_Br = df[df['borough'] == \"BRONX\"]['latitude'].max()\n",
    "\n",
    "#Min-max Queens\n",
    "min_long_Q = df[df['borough'] == \"QUEENS\"]['longitude'].min()\n",
    "max_long_Q = df[df['borough'] == \"QUEENS\"]['longitude'].max()\n",
    "min_lat_Q = df[df['borough'] == \"QUEENS\"]['latitude'].min()\n",
    "max_lat_Q = df[df['borough'] == \"QUEENS\"]['latitude'].max()\n",
    "\n",
    "#Min-max BROOKLYN\n",
    "min_long_B = df[df['borough'] == \"BROOKLYN\"]['longitude'].min()\n",
    "max_long_B = df[df['borough'] == \"BROOKLYN\"]['longitude'].max()\n",
    "min_lat_B = df[df['borough'] == \"BROOKLYN\"]['latitude'].min()\n",
    "max_lat_B = df[df['borough'] == \"BROOKLYN\"]['latitude'].max()\n",
    "\n",
    "#Min-max MANHATTAN\n",
    "min_long_M = df[df['borough'] == \"MANHATTAN\"]['longitude'].min()\n",
    "max_long_M = df[df['borough'] == \"MANHATTAN\"]['longitude'].max()\n",
    "min_lat_M = df[df['borough'] == \"MANHATTAN\"]['latitude'].min()\n",
    "max_lat_M = df[df['borough'] == \"MANHATTAN\"]['latitude'].max()\n",
    "\n",
    "lis = []\n",
    "for i in range(len(df[\"longitude\"])):   \n",
    "    \n",
    "    if df.iloc[i,2] != df.iloc[i,2]:\n",
    "        \n",
    "        if (min_long_SI <= df.iloc[i,4] <= max_long_SI) & (min_lat_SI <= df.iloc[i,5] <= max_lat_SI):\n",
    "            \n",
    "            lis.append(\"STATEN ISLAND\")\n",
    "            \n",
    "        elif (min_long_Br <= df.iloc[i,4] <= max_long_Br) & (min_lat_Br <= df.iloc[i,5] <= max_lat_Br):\n",
    "            \n",
    "            lis.append(\"BRONX\")\n",
    "            \n",
    "        elif (min_long_Q <= df.iloc[i,4] <= max_long_Q) & (min_lat_Q <= df.iloc[i,5] <= max_lat_Q):\n",
    "            \n",
    "            lis.append(\"QUEENS\")  \n",
    "            \n",
    "        elif (min_long_B <= df.iloc[i,4] <= max_long_B) & (min_lat_B <= df.iloc[i,5] <= max_lat_B):\n",
    "            \n",
    "            lis.append(\"BROOKLYN\")  \n",
    "            \n",
    "        elif (min_long_M <= df.iloc[i,4] <= max_long_M) & (min_lat_M <= df.iloc[i,5] <= max_lat_M):\n",
    "            \n",
    "            lis.append(\"MANHATTAN\")\n",
    "            \n",
    "        else: \n",
    "            lis.append(df.iloc[i,2])\n",
    "    else: \n",
    "        lis.append(df.iloc[i,2])\n",
    "        \n",
    "df[\"borough\"] = lis\n"
   ]
  },
  {
   "cell_type": "markdown",
   "metadata": {},
   "source": [
    "## Filling empty values with their close locations (limit of 2). If there are still empty values, they take the value \"Unspecified\""
   ]
  },
  {
   "cell_type": "code",
   "execution_count": 25,
   "metadata": {},
   "outputs": [],
   "source": [
    "df.sort_values(by=\"location\", inplace=True)\n",
    "df[\"borough\"].fillna(method ='ffill', limit = 2, inplace = True) \n",
    "df[\"zip_code\"].fillna(method ='ffill', limit = 2, inplace = True) "
   ]
  },
  {
   "cell_type": "code",
   "execution_count": 26,
   "metadata": {},
   "outputs": [],
   "source": [
    "df[\"borough\"].fillna(\"Unspecified\", inplace = True)\n",
    "df[\"zip_code\"].fillna(\"Unspecified\", inplace = True)\n",
    "df[\"on_street_name\"].fillna(\"Unspecified\", inplace = True)"
   ]
  },
  {
   "cell_type": "markdown",
   "metadata": {},
   "source": [
    "## Transform borough to quantitative values"
   ]
  },
  {
   "cell_type": "code",
   "execution_count": 27,
   "metadata": {},
   "outputs": [
    {
     "data": {
      "text/plain": [
       "BROOKLYN         245722\n",
       "QUEENS           206570\n",
       "MANHATTAN        165583\n",
       "Unspecified      156728\n",
       "BRONX            114538\n",
       "STATEN ISLAND     30972\n",
       "Name: borough, dtype: int64"
      ]
     },
     "execution_count": 27,
     "metadata": {},
     "output_type": "execute_result"
    }
   ],
   "source": [
    "df[\"borough\"].value_counts()"
   ]
  },
  {
   "cell_type": "code",
   "execution_count": 28,
   "metadata": {},
   "outputs": [],
   "source": [
    "def borough_quanti(x):\n",
    "    \n",
    "    if x[\"borough\"] == \"BROOKLYN\":\n",
    "        \n",
    "        return 0\n",
    "    \n",
    "    if x[\"borough\"] == \"QUEENS\":\n",
    "        \n",
    "        return 1\n",
    "    \n",
    "    if x[\"borough\"] == \"BRONX\":\n",
    "        \n",
    "        return 2\n",
    "    \n",
    "    if x[\"borough\"] == \"MANHATTAN\":\n",
    "        \n",
    "        return 3\n",
    "    \n",
    "    if x[\"borough\"] == \"STATEN ISLAND\":\n",
    "        \n",
    "        return 4\n",
    "    \n",
    "    if x[\"borough\"] == \"Unspecified\":\n",
    "        \n",
    "        return 5\n",
    "    "
   ]
  },
  {
   "cell_type": "code",
   "execution_count": 29,
   "metadata": {},
   "outputs": [],
   "source": [
    "df[\"borough_num\"] = df.apply(borough_quanti, axis=1)"
   ]
  },
  {
   "cell_type": "markdown",
   "metadata": {},
   "source": [
    "## Adding further column/information"
   ]
  },
  {
   "cell_type": "markdown",
   "metadata": {},
   "source": [
    "#### Hour"
   ]
  },
  {
   "cell_type": "code",
   "execution_count": 30,
   "metadata": {},
   "outputs": [],
   "source": [
    "df['hour']=df.apply(lambda x: x['crash_time'].split(\":\")[0],axis=1)"
   ]
  },
  {
   "cell_type": "markdown",
   "metadata": {},
   "source": [
    "#### Day or night"
   ]
  },
  {
   "cell_type": "code",
   "execution_count": 31,
   "metadata": {},
   "outputs": [],
   "source": [
    "def day_night(x):\n",
    "    \n",
    "    x[\"hour\"] = int(x[\"hour\"])\n",
    "    if 7 <= x['hour'] <= 20:\n",
    "        \n",
    "        #day\n",
    "        return 0\n",
    "    \n",
    "    else:\n",
    "        \n",
    "        #night\n",
    "        return 1"
   ]
  },
  {
   "cell_type": "code",
   "execution_count": 32,
   "metadata": {},
   "outputs": [],
   "source": [
    "df[\"day_night\"] = df.apply(day_night, axis=1)"
   ]
  },
  {
   "cell_type": "code",
   "execution_count": 33,
   "metadata": {},
   "outputs": [
    {
     "data": {
      "text/plain": [
       "array(['11', '21', '12', '10', '17', '7', '0', '2', '14', '20', '16',\n",
       "       '15', '19', '5', '18', '23', '9', '22', '4', '1', '8', '13', '6',\n",
       "       '3'], dtype=object)"
      ]
     },
     "execution_count": 33,
     "metadata": {},
     "output_type": "execute_result"
    }
   ],
   "source": [
    "df[\"hour\"].unique()"
   ]
  },
  {
   "cell_type": "markdown",
   "metadata": {},
   "source": [
    "#### Victim(s)"
   ]
  },
  {
   "cell_type": "code",
   "execution_count": 34,
   "metadata": {},
   "outputs": [],
   "source": [
    "df['victim']=df.apply(lambda x: x['number_of_persons_injured']+ \n",
    "                              x['number_of_persons_killed'],axis=1)"
   ]
  },
  {
   "cell_type": "markdown",
   "metadata": {},
   "source": [
    "#### Season"
   ]
  },
  {
   "cell_type": "code",
   "execution_count": 35,
   "metadata": {},
   "outputs": [],
   "source": [
    "def season(x):\n",
    "    \n",
    "    x[\"month\"] = int(x[\"month\"])\n",
    "    x[\"day\"] = int(x[\"day\"])               \n",
    "    if (x[\"month\"] == 1) or (x[\"month\"] == 2) or (x[\"month\"] == 12 and x[\"day\"] >= 21) or (x[\"month\"] == 3 and x[\"day\"] <= 20):\n",
    "        \n",
    "        #Winter\n",
    "        return 0\n",
    "                   \n",
    "    elif (x[\"month\"] == 4) | (x[\"month\"] == 5) or (x[\"month\"] == 3 and x[\"day\"] >= 21) or (x[\"month\"] == 6 and x[\"day\"] <= 20):\n",
    "        \n",
    "        #Spring\n",
    "        return 1\n",
    "                   \n",
    "    elif (x[\"month\"] == 7) | (x[\"month\"] == 8) or (x[\"month\"] == 6 and x[\"day\"] >= 21) or (x[\"month\"] == 9 and x[\"day\"] <= 20):\n",
    "        \n",
    "        #Summer\n",
    "        return 2\n",
    "                   \n",
    "    elif (x[\"month\"] == 10) | (x[\"month\"] == 11) or (x[\"month\"] == 9 and x[\"day\"] >= 21) or (x[\"month\"] == 12 and x[\"day\"] <= 20):\n",
    "        \n",
    "        #Fall\n",
    "        return \"3\""
   ]
  },
  {
   "cell_type": "code",
   "execution_count": 36,
   "metadata": {},
   "outputs": [],
   "source": [
    "df[\"season\"] = df.apply(season, axis = 1)"
   ]
  },
  {
   "cell_type": "markdown",
   "metadata": {},
   "source": [
    "## Checking and changing types of columns"
   ]
  },
  {
   "cell_type": "code",
   "execution_count": 37,
   "metadata": {
    "scrolled": true
   },
   "outputs": [
    {
     "data": {
      "text/plain": [
       "crash_date                       datetime64[ns]\n",
       "crash_time                               object\n",
       "borough                                  object\n",
       "zip_code                                 object\n",
       "latitude                                float64\n",
       "longitude                               float64\n",
       "location                                 object\n",
       "on_street_name                           object\n",
       "number_of_persons_injured               float64\n",
       "number_of_persons_killed                float64\n",
       "number_of_pedestrians_injured             int64\n",
       "number_of_pedestrians_killed              int64\n",
       "number_of_cyclist_injured                 int64\n",
       "number_of_cyclist_killed                  int64\n",
       "number_of_motorist_injured                int64\n",
       "number_of_motorist_killed                 int64\n",
       "contributing_factor_vehicle_1            object\n",
       "contributing_factor_vehicle_2            object\n",
       "vehicle_type_code1                       object\n",
       "vehicle_type_code2                       object\n",
       "vehicle_type_code1_num                  float64\n",
       "vehicle_type_code2_num                  float64\n",
       "day                                      object\n",
       "month                                    object\n",
       "year                                     object\n",
       "borough_num                               int64\n",
       "hour                                     object\n",
       "day_night                                 int64\n",
       "victim                                  float64\n",
       "season                                   object\n",
       "dtype: object"
      ]
     },
     "execution_count": 37,
     "metadata": {},
     "output_type": "execute_result"
    }
   ],
   "source": [
    "df.dtypes"
   ]
  },
  {
   "cell_type": "code",
   "execution_count": 53,
   "metadata": {},
   "outputs": [],
   "source": [
    "convert_dict = {'day': int,\n",
    "                'month': int,\n",
    "                'year': int,\n",
    "                \"vehicle_type_code1_num\": int,\n",
    "                \"vehicle_type_code2_num\": int,\n",
    "                \"hour\": int,\n",
    "                \"season\": int,\n",
    "                \"day_night\": int\n",
    "               } \n",
    "  \n",
    "df = df.astype(convert_dict)"
   ]
  },
  {
   "cell_type": "code",
   "execution_count": 54,
   "metadata": {},
   "outputs": [],
   "source": [
    "df.to_csv(\"data/output_data_1000000.csv\")"
   ]
  },
  {
   "cell_type": "code",
   "execution_count": null,
   "metadata": {},
   "outputs": [],
   "source": []
  },
  {
   "cell_type": "code",
   "execution_count": null,
   "metadata": {},
   "outputs": [],
   "source": []
  }
 ],
 "metadata": {
  "kernelspec": {
   "display_name": "Python 3",
   "language": "python",
   "name": "python3"
  },
  "language_info": {
   "codemirror_mode": {
    "name": "ipython",
    "version": 3
   },
   "file_extension": ".py",
   "mimetype": "text/x-python",
   "name": "python",
   "nbconvert_exporter": "python",
   "pygments_lexer": "ipython3",
   "version": "3.8.5"
  }
 },
 "nbformat": 4,
 "nbformat_minor": 4
}
